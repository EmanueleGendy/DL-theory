{
 "cells": [
  {
   "cell_type": "code",
   "execution_count": 232,
   "id": "d4891a9c-29d3-4060-a867-61ad010a64f7",
   "metadata": {},
   "outputs": [],
   "source": [
    "import torch\n",
    "import torch.nn as nn\n",
    "import torch.nn.init as init\n",
    "import numpy as np\n",
    "import matplotlib.pyplot as plt\n",
    "from scipy import stats\n",
    "from scipy.optimize import curve_fit"
   ]
  },
  {
   "cell_type": "code",
   "execution_count": 233,
   "id": "5edaa787-0845-4dcc-af03-441643d8ba04",
   "metadata": {},
   "outputs": [],
   "source": [
    "nL = 20\n",
    "cw = 10.\n",
    "cb = 0.\n",
    "n_inputs = 100\n",
    "n_samples = 300\n",
    "in_size = 1000"
   ]
  },
  {
   "cell_type": "code",
   "execution_count": 241,
   "id": "3e318175-eaa4-4cac-8a53-1e42198de2f1",
   "metadata": {},
   "outputs": [],
   "source": [
    "class Linear_NN(nn.Module):\n",
    "    def __init__(self):\n",
    "        super(Linear_NN, self).__init__()\n",
    "        self.firstlayer = nn.Linear(in_features=in_size, out_features=nL)\n",
    "        self.layer1 = nn.Linear(nL, nL)\n",
    "        self.layer2 = nn.Linear(nL, nL)\n",
    "        self.layer3 = nn.Linear(nL, nL)\n",
    "        self.layer4 = nn.Linear(nL, nL)\n",
    "        self.layer5 = nn.Linear(nL, nL)\n",
    "        self.finallayer = nn.Linear(in_features=nL, out_features=1)\n",
    "        \n",
    "        # Initialize weights from a Gaussian distribution\n",
    "        init.normal_(self.firstlayer.weight, mean=0.0, std=np.sqrt(cw/in_size))\n",
    "        init.normal_(self.layer1.weight, mean=0.0, std=np.sqrt(cw/nL))\n",
    "        init.normal_(self.layer2.weight, mean=0.0, std=np.sqrt(cw/nL))\n",
    "        init.normal_(self.layer3.weight, mean=0.0, std=np.sqrt(cw/nL))\n",
    "        init.normal_(self.layer4.weight, mean=0.0, std=np.sqrt(cw/nL))\n",
    "        init.normal_(self.layer5.weight, mean=0.0, std=np.sqrt(cw/nL))\n",
    "        init.normal_(self.finallayer.weight, mean=0.0, std=np.sqrt(cw/nL))\n",
    "        \n",
    "        # Initialize biases from a Gaussian distribution\n",
    "        init.normal_(self.firstlayer.bias, mean=0.0, std=cb)\n",
    "        init.normal_(self.layer1.bias, mean=0.0, std=cb)\n",
    "        init.normal_(self.layer2.bias, mean=0.0, std=cb)\n",
    "        init.normal_(self.layer3.bias, mean=0.0, std=cb)\n",
    "        init.normal_(self.layer4.bias, mean=0.0, std=cb)\n",
    "        init.normal_(self.layer5.bias, mean=0.0, std=cb)\n",
    "        init.normal_(self.finallayer.bias, mean=0.0, std=cb)\n",
    "        \n",
    "    def forward(self, x):\n",
    "        x = self.firstlayer(x)\n",
    "        x = self.layer1(x)\n",
    "        x = self.layer2(x)\n",
    "        x = self.layer3(x)\n",
    "        z3 = x\n",
    "        x = self.layer4(x)\n",
    "        z4 = x\n",
    "        x = self.layer5(x)\n",
    "        x = self.finallayer(x)\n",
    "        return x, z3, z4"
   ]
  },
  {
   "cell_type": "code",
   "execution_count": 242,
   "id": "7bf9fb49-3ccd-435a-981c-01dc865fc357",
   "metadata": {},
   "outputs": [],
   "source": [
    "x = torch.randn(n_inputs,in_size)"
   ]
  },
  {
   "cell_type": "code",
   "execution_count": 243,
   "id": "9dc8e48f-cef5-499c-86c1-ef49930616db",
   "metadata": {},
   "outputs": [],
   "source": [
    "# g3 = torch.tensor([[sum(z3[i,j]*z3[k,j] for j in range(20)) for i in range(10)] for k in range(10)])/nL \n",
    "# this was just used as a double check to check that the definition of g3 below is ok"
   ]
  },
  {
   "cell_type": "code",
   "execution_count": 244,
   "id": "8b590d51-eb5e-4569-856b-3f5a1938437e",
   "metadata": {},
   "outputs": [],
   "source": [
    "ratios = []\n",
    "for _ in range(n_samples):\n",
    "    model = Linear_NN()\n",
    "    out = model(x)\n",
    "    z3 = out[1].detach()\n",
    "    z4 = out[2].detach()\n",
    "    g3 = torch.mean(torch.diagonal(torch.outer(z3.ravel(),z3.ravel()).view(n_inputs,nL,n_inputs,nL),dim1 = 1, dim2 = 3),2)\n",
    "    g4 = torch.mean(torch.diagonal(torch.outer(z4.ravel(),z4.ravel()).view(n_inputs,nL,n_inputs,nL),dim1 = 1, dim2 = 3),2)\n",
    "    #g31 = torch.tensor([[sum(z3[i,j]*z3[k,j] for j in range(nL)) for i in range(n_inputs)] for k in range(n_inputs)])/nL \n",
    "    #g41 = torch.tensor([[sum(z4[i,j]*z4[k,j] for j in range(nL)) for i in range(n_inputs)] for k in range(n_inputs)])/nL \n",
    "    ratios.append(torch.mean((g4/g3).ravel()).detach())"
   ]
  },
  {
   "cell_type": "code",
   "execution_count": 245,
   "id": "76498d69-f3c8-40a6-aa84-991e7456fc1e",
   "metadata": {},
   "outputs": [],
   "source": [
    "def gauss(x, mean, std):\n",
    "    norm = np.sqrt(2*np.pi)*std\n",
    "    exponent = ((x - mean)**2)/(2*std**2)\n",
    "    return np.exp(-exponent)/norm"
   ]
  },
  {
   "cell_type": "code",
   "execution_count": 246,
   "id": "215b03c9-3c96-4d4b-ba4b-b1b6c31b670a",
   "metadata": {},
   "outputs": [
    {
     "data": {
      "text/plain": [
       "[<matplotlib.lines.Line2D at 0x7f8380e34070>]"
      ]
     },
     "execution_count": 246,
     "metadata": {},
     "output_type": "execute_result"
    },
    {
     "data": {
      "image/png": "[encoded data removed]",
      "text/plain": [
       "<Figure size 432x288 with 1 Axes>"
      ]
     },
     "metadata": {
      "needs_background": "light"
     },
     "output_type": "display_data"
    }
   ],
   "source": [
    "hist = plt.hist(np.array(ratios), bins = np.arange(-10,40,1),align='left' ,density=True)\n",
    "x_data = np.linspace(min(hist[1]),max(hist[1]),1000)\n",
    "[fit_mean, fit_std], fit_cov = curve_fit(gauss, hist[1][:-1],hist[0])\n",
    "y_data = gauss(x_data,fit_mean,fit_std)\n",
    "plt.plot(x_data,y_data)"
   ]
  },
  {
   "cell_type": "markdown",
   "id": "1ede90d8-7c36-43b6-9dd4-2886660f40fb",
   "metadata": {},
   "source": [
    "We see that the mean is consistent with the value of \"scale\""
   ]
  },
  {
   "cell_type": "code",
   "execution_count": 247,
   "id": "beb68b8b-b8f8-4648-9c5c-3064f6fbf93e",
   "metadata": {},
   "outputs": [
    {
     "name": "stdout",
     "output_type": "stream",
     "text": [
      "The measured ratio is 9.029251865968478 +- 5.788102450974151\n"
     ]
    }
   ],
   "source": [
    "print('The measured ratio is', fit_mean,'+-',fit_std)"
   ]
  },
  {
   "cell_type": "code",
   "execution_count": null,
   "id": "f6974fd5-b89e-4885-9d1c-147c2d13b401",
   "metadata": {},
   "outputs": [],
   "source": []
  }
 ],
 "metadata": {
  "kernelspec": {
   "display_name": "Python 3",
   "language": "python",
   "name": "python3"
  },
  "language_info": {
   "codemirror_mode": {
    "name": "ipython",
    "version": 3
   },
   "file_extension": ".py",
   "mimetype": "text/x-python",
   "name": "python",
   "nbconvert_exporter": "python",
   "pygments_lexer": "ipython3",
   "version": "3.9.5"
  }
 },
 "nbformat": 4,
 "nbformat_minor": 5
}
