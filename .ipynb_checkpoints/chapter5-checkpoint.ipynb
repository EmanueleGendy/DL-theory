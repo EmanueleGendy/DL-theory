{
 "cells": [
  {
   "cell_type": "markdown",
   "id": "83a556da-e4cd-4d93-a2aa-d7157f239972",
   "metadata": {},
   "source": [
    "# Principal kernel recursion"
   ]
  },
  {
   "cell_type": "markdown",
   "id": "68cd82aa-5726-40e0-8b88-3a495068fafa",
   "metadata": {},
   "source": [
    "We want to explicitly check the validity of Eq. 5.4 of arXiv:2106.10165. To this end we write down a NN with 5 hidden layers, each with nL neurons, with user-specified activation function. Then we extract the value of $K_{00}$ at the 3-rd and 4-th layer and check if they are indeed related by Eq. 5.4 (within error-bars)"
   ]
  },
  {
   "cell_type": "code",
   "execution_count": 324,
   "id": "8c8c67bc-5673-4b3e-b638-38f4c7b58905",
   "metadata": {},
   "outputs": [],
   "source": [
    "import torch\n",
    "import torch.nn as nn\n",
    "import torch.nn.functional as F\n",
    "import torch.nn.init as init\n",
    "import numpy as np\n",
    "import matplotlib.pyplot as plt\n",
    "from scipy import stats\n",
    "from scipy.optimize import curve_fit\n",
    "import scipy.integrate as integrate"
   ]
  },
  {
   "cell_type": "markdown",
   "id": "b70d4d88-3b3a-4166-ad1e-f4bd1f91823b",
   "metadata": {},
   "source": [
    "Hyperparameters of the network. n_inputs is the number of inputs, not to be confused with n_samples, which is the number of times we initialize the network, i.e. the dimension of the ensemble of networks we use to measure statistics (like means and variances)"
   ]
  },
  {
   "cell_type": "code",
   "execution_count": 325,
   "id": "194aabaa-c846-4a6f-b8fb-0e7d6e94f324",
   "metadata": {},
   "outputs": [],
   "source": [
    "nL = 200\n",
    "cw = 10\n",
    "cb = 0.\n",
    "n_inputs = 100\n",
    "n_samples = 100\n",
    "in_size = 200"
   ]
  },
  {
   "cell_type": "markdown",
   "id": "69029673-619a-425a-9e37-517065c709fb",
   "metadata": {},
   "source": [
    "Network class. Here we have 1 input layer with \"in_size\" inputs and \"nL\" outputs, 5 hidden layers with \"nL\" inputs and \"nL\" outputs, and one output layer with \"nL\" inputs and 1 output. We pick the preactivations z3 and z4 from the 3rd and 4th hidden layers"
   ]
  },
  {
   "cell_type": "code",
   "execution_count": 576,
   "id": "e37d8ee1-c34c-4d08-b7a8-381fba12841e",
   "metadata": {},
   "outputs": [],
   "source": [
    "class Simple_NN(nn.Module):\n",
    "    def __init__(self):\n",
    "        super(Simple_NN, self).__init__()\n",
    "        self.firstlayer = nn.Linear(in_features=in_size, out_features=nL)\n",
    "        self.layer1 = nn.Linear(nL, nL)\n",
    "        self.layer2 = nn.Linear(nL, nL)\n",
    "        self.layer3 = nn.Linear(nL, nL)\n",
    "        self.layer4 = nn.Linear(nL, nL)\n",
    "        self.layer5 = nn.Linear(nL, nL)\n",
    "        self.finallayer = nn.Linear(in_features=nL, out_features=1)\n",
    "        \n",
    "        # Initialize weights from a Gaussian distribution\n",
    "        init.normal_(self.firstlayer.weight, mean=0.0, std=np.sqrt(cw/n_inputs))\n",
    "        init.normal_(self.layer1.weight, mean=0.0, std=np.sqrt(cw/nL))\n",
    "        init.normal_(self.layer2.weight, mean=0.0, std=np.sqrt(cw/nL))\n",
    "        init.normal_(self.layer3.weight, mean=0.0, std=np.sqrt(cw/nL))\n",
    "        init.normal_(self.layer4.weight, mean=0.0, std=np.sqrt(cw/nL))\n",
    "        init.normal_(self.layer5.weight, mean=0.0, std=np.sqrt(cw/nL))\n",
    "        init.normal_(self.finallayer.weight, mean=0.0, std=np.sqrt(cw/nL))\n",
    "        \n",
    "        # Initialize biases from a Gaussian distribution\n",
    "        init.normal_(self.firstlayer.bias, mean=0.0, std=cb)\n",
    "        init.normal_(self.layer1.bias, mean=0.0, std=cb)\n",
    "        init.normal_(self.layer2.bias, mean=0.0, std=cb)\n",
    "        init.normal_(self.layer3.bias, mean=0.0, std=cb)\n",
    "        init.normal_(self.layer4.bias, mean=0.0, std=cb)\n",
    "        init.normal_(self.layer5.bias, mean=0.0, std=cb)\n",
    "        init.normal_(self.finallayer.bias, mean=0.0, std=cb)\n",
    "        \n",
    "    def forward(self, x):\n",
    "        z0 = x\n",
    "        z1 = self.firstlayer(x)\n",
    "        x = F.relu(z1)\n",
    "        z2 = self.layer1(x)\n",
    "        x = F.relu(z2)\n",
    "        z3 = self.layer2(x)\n",
    "        x = F.relu(z3)\n",
    "        z4 = self.layer3(x)\n",
    "        x = F.relu(z4)\n",
    "        z5 = self.layer4(x)\n",
    "        x = F.relu(z5)\n",
    "        z6 = self.layer5(x)\n",
    "        x = F.relu(z6)\n",
    "        x = self.finallayer(x) #the final layer has no Activation function applied to it\n",
    "        return x, z3, z4"
   ]
  },
  {
   "cell_type": "code",
   "execution_count": 577,
   "id": "7cf836e3-7676-4c59-8a78-f6d2cc7717f3",
   "metadata": {},
   "outputs": [],
   "source": [
    "x = torch.randn(n_inputs,in_size)"
   ]
  },
  {
   "cell_type": "code",
   "execution_count": 578,
   "id": "89eb1a55-cd4d-40c8-afd0-8ae9d7267fe0",
   "metadata": {},
   "outputs": [],
   "source": [
    "def g(k):\n",
    "    if not(torch.is_tensor(k)):\n",
    "        k = torch.tensor(k)\n",
    "    x = torch.linspace(-100,100,1000)\n",
    "    norm = torch.sqrt(2*np.pi*k.clone().detach())\n",
    "    return ((sum((F.relu(x)**2)*np.exp(-x**2/(2*k)))/norm)/1000)*200"
   ]
  },
  {
   "cell_type": "markdown",
   "id": "73d1cf17-4e5b-41ea-ac6e-856a427ec51e",
   "metadata": {
    "tags": []
   },
   "source": [
    "Since nL is pretty large, as a first approximation we take the kernel K, i.e. the first order approximation of the metric, to be the full metric. This is correct up to O(1/nL) corrections"
   ]
  },
  {
   "cell_type": "markdown",
   "id": "9c63f0e9-fbed-420c-8c8e-e7417cd6d37f",
   "metadata": {},
   "source": [
    "Without loss of generality we consider the 0-th input, compute the average of the kernel at the 3rd and 4th layer over n_samples initializations of the network, and check if it they are related by eq 5.4"
   ]
  },
  {
   "cell_type": "code",
   "execution_count": 579,
   "id": "dbf8a5c0-5e22-48d8-bbb5-170c752e42f6",
   "metadata": {},
   "outputs": [
    {
     "name": "stdout",
     "output_type": "stream",
     "text": [
      "tensor(1.0040)\n"
     ]
    }
   ],
   "source": [
    "k3vec = []\n",
    "k4vec = []\n",
    "for _ in range(n_samples):\n",
    "    model = Simple_NN()\n",
    "    xout, z3, z4 = model(x)\n",
    "    k3vec.append(sum((z3[0].detach())**2)/nL)\n",
    "    k4vec.append(sum((z4[0].detach())**2)/nL)\n",
    "\n",
    "k3 = np.mean(k3vec)\n",
    "k4 = np.mean(k4vec)\n",
    "k4exp = cb + cw * g(k3)\n",
    "print(k4/k4exp)"
   ]
  },
  {
   "cell_type": "markdown",
   "id": "cf673ada-62e7-4cf6-97fa-f32b7633f84f",
   "metadata": {},
   "source": [
    "## 2 - Find the critical value of K "
   ]
  },
  {
   "cell_type": "markdown",
   "id": "2c1588c3-8c50-4baa-b57e-4bb4ec2e7703",
   "metadata": {},
   "source": [
    "Here we want to reproduce the mechanism for finding criticality explained befor Eq. (5.73), with the goal of reproducing Fig. 5.2 (right)"
   ]
  },
  {
   "cell_type": "markdown",
   "id": "1c22b08c-310b-4611-b15f-aca3c6545df3",
   "metadata": {},
   "source": [
    "Besides solving Eq. (5.73) graphycally, we also want to solve it numerically. To this end, we define a routine to solve equations witht the bisection method. First  we define an auxiliary function checking if two numbers are equal up to some numerical tolerance. We use it then in the next function to check if some value is 0 up to rounding"
   ]
  },
  {
   "cell_type": "code",
   "execution_count": 162,
   "id": "122e2d09-07db-477e-b4dd-53b8ddc2bdfb",
   "metadata": {},
   "outputs": [],
   "source": [
    "def comp(x,y,eps = 1e-8):\n",
    "    if abs(x-y)<eps:\n",
    "        return True\n",
    "    else:\n",
    "        return False"
   ]
  },
  {
   "cell_type": "markdown",
   "id": "94c43318-7d4e-4a9f-9e8e-02c4ff5f8fc6",
   "metadata": {},
   "source": [
    "This function actually runs the bisection algorithm. "
   ]
  },
  {
   "cell_type": "code",
   "execution_count": 625,
   "id": "9fd5baf2-2e10-4ba5-a21f-13449ea93949",
   "metadata": {},
   "outputs": [],
   "source": [
    "def bisect(f, a, b,*args,tolerance = 1e-6,max_iterations=1000):\n",
    "    # This routine only works for monotonic functions that cross 0 within the specified interval. \n",
    "    # If the function does not cross 0 within the interval, raise an error\n",
    "    if f(a,*args)*f(b,*args)>0 and not(comp(f(a,*args)*f(b,*args),0, eps = tolerance)):\n",
    "        raise ValueError(\"The function does not cross 0 within the interval\")\n",
    "        \n",
    "    # If the function is already 0 (within the tolerance) at one of the extremes, return the extreme\n",
    "    if comp(f(a, *args),0, eps = tolerance):\n",
    "        return a, f(a,*args)\n",
    "    if comp(f(b, *args),0, eps = tolerance):\n",
    "        return b, f(b,*args)\n",
    "    \n",
    "    # If the previous checks have gone through, just go ahead and run the bisection algorithm \n",
    "    for i in range(max_iterations):\n",
    "        bis_point = (b+a)/2\n",
    "        if comp(f(bis_point,*args),0, eps = tolerance):\n",
    "            return bis_point\n",
    "        elif f(bis_point,*args)*f(a,*args)>0:\n",
    "            a = bis_point\n",
    "        elif f(bis_point,*args)*f(b,*args)>0:\n",
    "            b = bis_point\n",
    "    raise ValueError(\"Bisection method did not converge within the maximum number of iterations.\")"
   ]
  },
  {
   "cell_type": "markdown",
   "id": "a30a826d-56ed-4d88-9ac3-b265f385ea92",
   "metadata": {},
   "source": [
    "## Find the fixed point value "
   ]
  },
  {
   "cell_type": "markdown",
   "id": "de10ba79-cbbc-49d6-a83e-b56bf51d88e5",
   "metadata": {},
   "source": [
    "This is just the activation function, wrapped in a flexible way"
   ]
  },
  {
   "cell_type": "code",
   "execution_count": 626,
   "id": "24f57fb3-4aad-4af1-850e-62fd4ffb0597",
   "metadata": {},
   "outputs": [],
   "source": [
    "def act_fun(x, act = \"ReLU\"):\n",
    "    if act in act_fun_dict.keys():\n",
    "        return act_fun_dict[act](x)\n",
    "    else:\n",
    "        raise ValueError(\"This activation function is unknown or unsupported at the moment\")"
   ]
  },
  {
   "cell_type": "markdown",
   "id": "f41d3518-3a3b-4685-b444-83e980b0df83",
   "metadata": {},
   "source": [
    "To compute the LHS of eq. (5.73) we need the derivative of the activation function, computed here using autograd"
   ]
  },
  {
   "cell_type": "code",
   "execution_count": 627,
   "id": "4cb845e8-1f3e-4e42-b34a-d33535de6b67",
   "metadata": {},
   "outputs": [],
   "source": [
    "def der_act(x, act = \"ReLU\"):\n",
    "    if act in act_fun_dict.keys():\n",
    "        if torch.is_tensor(x):\n",
    "            xgrad = []\n",
    "            for xi in x:\n",
    "                xi = xi.clone().detach().requires_grad_(True)\n",
    "                y = act_fun_dict[act](xi)\n",
    "                y.backward()\n",
    "                xgrad.append(xi.grad)\n",
    "            return torch.tensor(xgrad)\n",
    "        else:\n",
    "            x = x.clone().detach().requires_grad_(True)\n",
    "            y = act_fun_dict[act](x)\n",
    "            y.backward()\n",
    "            return x.grad\n",
    "    else:\n",
    "        raise ValueError(\"This activation function is unknown or unsupported at the moment\")"
   ]
  },
  {
   "cell_type": "code",
   "execution_count": 628,
   "id": "3ae4a96c-1705-4e32-bca2-5356a5cabef2",
   "metadata": {},
   "outputs": [],
   "source": [
    "# define parameters for the montecarlo integration\n",
    "left_lim = -1000\n",
    "right_lim = 1000\n",
    "tot_num_points = 10000"
   ]
  },
  {
   "cell_type": "markdown",
   "id": "4e6bd42e-f841-4623-be16-51b908b78af0",
   "metadata": {},
   "source": [
    "This is actually the LHS of Eq. Eq. (5.73)"
   ]
  },
  {
   "cell_type": "code",
   "execution_count": 629,
   "id": "ce034a3e-2b96-4cbe-bcd0-5616a4c432d2",
   "metadata": {},
   "outputs": [],
   "source": [
    "def lhs(k, act = \"ReLU\"):\n",
    "    if not(torch.is_tensor(k)):\n",
    "        k = torch.tensor(k)\n",
    "    x = torch.linspace(left_lim,right_lim,tot_num_points)\n",
    "    norm = torch.sqrt(2*torch.pi*k.clone().detach())\n",
    "    #this is the expected value of the square of the derivative of the activation function\n",
    "    expval1 = ((sum(((der_act(x,act))**2)*np.exp(-x**2/(2*k)))/norm)/tot_num_points)*(right_lim-left_lim)\n",
    "    expval1.shape\n",
    "    #this is the expected value appearing in the denominator of the LHS of (5.73)\n",
    "    expval2 = ((sum( (((act_fun(x,act))**2)*(x**2-k))  * np.exp(-x**2/(2*k))  )/norm)/tot_num_points)*(right_lim-left_lim)\n",
    "    return 2*(k**2) *expval1 / expval2"
   ]
  },
  {
   "cell_type": "markdown",
   "id": "d4952de6-fee7-44ab-ba21-ce36c0510c06",
   "metadata": {},
   "source": [
    "Compute the value of the LHS of Eq. (5.73) numerically, and plot it for $K\\in [0,3]$"
   ]
  },
  {
   "cell_type": "code",
   "execution_count": 630,
   "id": "97cb8e00-f714-4854-8ff5-37dc815dcdc5",
   "metadata": {},
   "outputs": [],
   "source": [
    "kvals = torch.logspace(-2,1/2,10)\n",
    "lhsvec = torch.tensor([lhs(k,act = \"Tanh\") for k in kvals])"
   ]
  },
  {
   "cell_type": "code",
   "execution_count": 642,
   "id": "d2119788-a739-4d89-8acc-fb98f4173289",
   "metadata": {},
   "outputs": [
    {
     "data": {
      "text/plain": [
       "[<matplotlib.lines.Line2D at 0x7fcc108370a0>]"
      ]
     },
     "execution_count": 642,
     "metadata": {},
     "output_type": "execute_result"
    },
    {
     "data": {
      "image/png": "[encoded data removed]",
      "text/plain": [
       "<Figure size 432x432 with 1 Axes>"
      ]
     },
     "metadata": {
      "needs_background": "light"
     },
     "output_type": "display_data"
    }
   ],
   "source": [
    "fig, ax = plt.subplots(figsize = (6,6))\n",
    "ax.set_xlim([min(kvals),3])\n",
    "ax.set_ylim([0,5])\n",
    "ax.set_ylabel('LHS')\n",
    "ax.set_xlabel('K')\n",
    "ax.plot(kvals,lhsvec)"
   ]
  },
  {
   "cell_type": "markdown",
   "id": "dbd00a5f-b147-4114-923b-c37f1d6cd088",
   "metadata": {},
   "source": [
    "Now we run the bisection routine to find a solution to LHS - 1 = 0 numerically"
   ]
  },
  {
   "cell_type": "code",
   "execution_count": 635,
   "id": "894eeeb0-3688-49cc-abe3-4a5011e5ff8f",
   "metadata": {},
   "outputs": [],
   "source": [
    "kstar, fkstar = bisect(lambda k: lhs(k, act = \"Tanh\")-1, 0.02,3, tolerance = 1)"
   ]
  },
  {
   "cell_type": "code",
   "execution_count": 636,
   "id": "d8925938-3e46-4f7a-8e21-a1eb3f99bff8",
   "metadata": {},
   "outputs": [
    {
     "name": "stdout",
     "output_type": "stream",
     "text": [
      "The critical value of K is 0.02\n"
     ]
    }
   ],
   "source": [
    "print(f'The critical value of K is {kstar}')"
   ]
  },
  {
   "cell_type": "markdown",
   "id": "fff1f0ab-44fc-4bc8-9232-4ff00250d3f4",
   "metadata": {},
   "source": [
    "Notice there is a non-negligible numerical error, noticeable in the plot, too, so we have to pump up the tolerance quite a bit. Indeed the value of f at K* is not really 0"
   ]
  },
  {
   "cell_type": "code",
   "execution_count": 638,
   "id": "243e0d05-a3ac-4e5b-af71-814865febb35",
   "metadata": {},
   "outputs": [
    {
     "name": "stdout",
     "output_type": "stream",
     "text": [
      "0.05869615\n"
     ]
    }
   ],
   "source": [
    "print(fkstar.numpy())"
   ]
  }
 ],
 "metadata": {
  "kernelspec": {
   "display_name": "Python 3",
   "language": "python",
   "name": "python3"
  },
  "language_info": {
   "codemirror_mode": {
    "name": "ipython",
    "version": 3
   },
   "file_extension": ".py",
   "mimetype": "text/x-python",
   "name": "python",
   "nbconvert_exporter": "python",
   "pygments_lexer": "ipython3",
   "version": "3.9.5"
  }
 },
 "nbformat": 4,
 "nbformat_minor": 5
}
